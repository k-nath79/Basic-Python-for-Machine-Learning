{
  "nbformat": 4,
  "nbformat_minor": 0,
  "metadata": {
    "colab": {
      "provenance": [],
      "authorship_tag": "ABX9TyO5Mu6m94FrK5P4FwuAEMjW",
      "include_colab_link": true
    },
    "kernelspec": {
      "name": "python3",
      "display_name": "Python 3"
    },
    "language_info": {
      "name": "python"
    }
  },
  "cells": [
    {
      "cell_type": "markdown",
      "metadata": {
        "id": "view-in-github",
        "colab_type": "text"
      },
      "source": [
        "<a href=\"https://colab.research.google.com/github/k-nath79/Basic-Python-for-Machine-Learning/blob/main/BasicPython.ipynb\" target=\"_parent\"><img src=\"https://colab.research.google.com/assets/colab-badge.svg\" alt=\"Open In Colab\"/></a>"
      ]
    },
    {
      "cell_type": "markdown",
      "source": [
        "# Introduction to `Python`\n",
        "\n",
        "First Program: Displays a Hello"
      ],
      "metadata": {
        "id": "U93vGZ-p7IyL"
      }
    },
    {
      "cell_type": "code",
      "source": [
        "print(\"Hello\")"
      ],
      "metadata": {
        "colab": {
          "base_uri": "https://localhost:8080/"
        },
        "id": "9-ysKkob714S",
        "outputId": "84db5711-17dd-4529-dfd9-735a376f0804"
      },
      "execution_count": 1,
      "outputs": [
        {
          "output_type": "stream",
          "name": "stdout",
          "text": [
            "Hello\n"
          ]
        }
      ]
    },
    {
      "cell_type": "markdown",
      "source": [
        ">Program to assign an integer and display it"
      ],
      "metadata": {
        "id": "JJk_rVwg9OZ5"
      }
    },
    {
      "cell_type": "code",
      "source": [
        "a=10\n",
        "print(\"Value of the variable a is:\",a)"
      ],
      "metadata": {
        "colab": {
          "base_uri": "https://localhost:8080/"
        },
        "id": "aZXLl4Sd8p_B",
        "outputId": "103af21d-c9ae-4778-f9d2-6c8f04f7c537"
      },
      "execution_count": 3,
      "outputs": [
        {
          "output_type": "stream",
          "name": "stdout",
          "text": [
            "Value of the variable a is: 10\n"
          ]
        }
      ]
    },
    {
      "cell_type": "markdown",
      "source": [
        ">Program to find sum of two Numbers"
      ],
      "metadata": {
        "id": "QDIT79989paC"
      }
    },
    {
      "cell_type": "code",
      "source": [
        "a=10\n",
        "b=20\n",
        "print(\"Sum =\",a+b)"
      ],
      "metadata": {
        "colab": {
          "base_uri": "https://localhost:8080/"
        },
        "id": "zkkMYV2-9mgB",
        "outputId": "b05d4486-fe21-4f14-cc3a-b89cef4d319e"
      },
      "execution_count": 10,
      "outputs": [
        {
          "output_type": "stream",
          "name": "stdout",
          "text": [
            "Sum = 30\n"
          ]
        }
      ]
    },
    {
      "cell_type": "markdown",
      "source": [
        ">Read two numbers from the user and find the sum."
      ],
      "metadata": {
        "id": "xyLq3j1s-X_5"
      }
    },
    {
      "cell_type": "code",
      "source": [
        "a=int(input(\"Enter first Number:\")) #here input function read values as strings,int() cast it to integer"
      ],
      "metadata": {
        "colab": {
          "base_uri": "https://localhost:8080/"
        },
        "id": "ZaBx6H4O-egh",
        "outputId": "542a92b6-78fd-4ca7-9850-a9f973e95270"
      },
      "execution_count": 19,
      "outputs": [
        {
          "name": "stdout",
          "output_type": "stream",
          "text": [
            "Enter first Number:5\n"
          ]
        }
      ]
    },
    {
      "cell_type": "code",
      "source": [
        "b=int(input(\"Enter the Second Number:\"))"
      ],
      "metadata": {
        "colab": {
          "base_uri": "https://localhost:8080/"
        },
        "id": "rvB5faRY-lUA",
        "outputId": "a2e5212d-7caa-4c66-dc9e-36aaee8ff4c8"
      },
      "execution_count": 20,
      "outputs": [
        {
          "name": "stdout",
          "output_type": "stream",
          "text": [
            "Enter the Second Number:10\n"
          ]
        }
      ]
    },
    {
      "cell_type": "code",
      "source": [
        "#Display a and b\n",
        "print(a)"
      ],
      "metadata": {
        "colab": {
          "base_uri": "https://localhost:8080/"
        },
        "id": "lQV6jqyw-0xp",
        "outputId": "b44ab24e-0b61-41ca-8c67-b061aaa7ef5a"
      },
      "execution_count": 13,
      "outputs": [
        {
          "output_type": "stream",
          "name": "stdout",
          "text": [
            "5\n"
          ]
        }
      ]
    },
    {
      "cell_type": "code",
      "source": [
        "sum=a+b\n",
        "print(sum)"
      ],
      "metadata": {
        "colab": {
          "base_uri": "https://localhost:8080/"
        },
        "id": "1F5o2GTZ_SbN",
        "outputId": "5d573839-2775-4bfe-fdf6-8b13cb501e68"
      },
      "execution_count": 21,
      "outputs": [
        {
          "output_type": "stream",
          "name": "stdout",
          "text": [
            "15\n"
          ]
        }
      ]
    }
  ]
}